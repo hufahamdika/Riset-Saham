{
  "cells": [
    {
      "cell_type": "markdown",
      "id": "8b1aea60",
      "metadata": {},
      "source": [
        "# Import Libraries"
      ]
    },
    {
      "cell_type": "code",
      "execution_count": 2,
      "id": "LJyAwYgm2YYD",
      "metadata": {
        "id": "LJyAwYgm2YYD"
      },
      "outputs": [],
      "source": [
        "import numpy as np\n",
        "import pandas as pd\n",
        "import matplotlib.pyplot as plt\n",
        "from sklearn.preprocessing import StandardScaler, LabelEncoder\n",
        "from tensorflow.keras.models import Sequential, load_model\n",
        "from tensorflow.keras.layers import LSTM,GRU, SimpleRNN, Dense, Dropout\n",
        "import os\n",
        "import tensorflow as tf\n",
        "import math\n",
        "from sklearn.metrics import mean_squared_error\n",
        "from sklearn.model_selection import train_test_split\n",
        "import random\n",
        "from sklearn.metrics import accuracy_score, precision_score, recall_score, f1_score\n",
        "# , confusion_matrix, ConfusionMatrixDisplay"
      ]
    },
    {
      "cell_type": "markdown",
      "id": "48a4ae0b",
      "metadata": {},
      "source": [
        "# Functions"
      ]
    },
    {
      "cell_type": "code",
      "execution_count": 3,
      "id": "9c8ae2da",
      "metadata": {},
      "outputs": [],
      "source": [
        "#fungsi menentukan data input dan target output\n",
        "def create_my_dataset(df):\n",
        "    x = []\n",
        "    # y = []\n",
        "    for i in range (l + 1, df.shape[0] + 1): #diulang sebanyak panjang data-l+1\n",
        "        x.append(df[i-l:i,:]) #sekuen sepanjang l sebagai input\n",
        "        # y.append(df_y[i,0]) #nilai output sekuen ke l+1\n",
        "    x = np.array(x)\n",
        "    # y = np.array(y)\n",
        "    # y = y.reshape(-1,1)\n",
        "    return x[50 - TARGET_DAY:]\n",
        "\n",
        "#fungsi mengiris data training dan testing pada fitur tertentu\n",
        "def get_slice(m,r,col,t): #t=0 untuk skrg, t=-1 utk sehari sebelumnya\n",
        "    #get column\n",
        "    df_s = df_old[col].values\n",
        "    df_s = df_s.reshape(-1,1)\n",
        "\n",
        "    #slicing\n",
        "    train_s = df_s[l+t:int(r*m)+t]\n",
        "    if t==0:\n",
        "        test_s = df_s[int(r*m):]\n",
        "    else:\n",
        "        test_s = df_s[int(r*m)+t:t]\n",
        "\n",
        "    train_s = np.array(train_s)\n",
        "    train_s = train_s.reshape(-1,1)\n",
        "    test_s = np.array(test_s)\n",
        "    test_s = test_s.reshape(-1,1)\n",
        "\n",
        "    return train_s,test_s\n",
        "\n",
        "def close_target(dataframe, days, price_col):\n",
        "    # dataframe = dataframe.assign(target_days='None')\n",
        "    target = 'None'\n",
        "    for i in range(dataframe.shape[0] - days):\n",
        "        target = dataframe.loc[i + days, price_col] \n",
        "        dataframe.loc[i, f\"close_{days}\"] = target\n",
        "    return dataframe"
      ]
    },
    {
      "cell_type": "markdown",
      "id": "e1fc66d6",
      "metadata": {},
      "source": [
        "# Main"
      ]
    },
    {
      "cell_type": "markdown",
      "id": "df3abaab",
      "metadata": {},
      "source": [
        "## Load Data"
      ]
    },
    {
      "cell_type": "code",
      "execution_count": 602,
      "id": "903ae88a",
      "metadata": {},
      "outputs": [
        {
          "data": {
            "text/html": [
              "<div>\n",
              "<style scoped>\n",
              "    .dataframe tbody tr th:only-of-type {\n",
              "        vertical-align: middle;\n",
              "    }\n",
              "\n",
              "    .dataframe tbody tr th {\n",
              "        vertical-align: top;\n",
              "    }\n",
              "\n",
              "    .dataframe thead th {\n",
              "        text-align: right;\n",
              "    }\n",
              "</style>\n",
              "<table border=\"1\" class=\"dataframe\">\n",
              "  <thead>\n",
              "    <tr style=\"text-align: right;\">\n",
              "      <th></th>\n",
              "      <th>datetime</th>\n",
              "      <th>symbol</th>\n",
              "      <th>open</th>\n",
              "      <th>high</th>\n",
              "      <th>low</th>\n",
              "      <th>close</th>\n",
              "      <th>volume</th>\n",
              "      <th>SMA_5</th>\n",
              "      <th>EMA_5</th>\n",
              "      <th>SMA_10</th>\n",
              "      <th>...</th>\n",
              "      <th>MACD_SIGNAL</th>\n",
              "      <th>UPPERBAND</th>\n",
              "      <th>MIDDLEBAND</th>\n",
              "      <th>LOWERBAND</th>\n",
              "      <th>target_1</th>\n",
              "      <th>target_5</th>\n",
              "      <th>target_10</th>\n",
              "      <th>target_20</th>\n",
              "      <th>target_50</th>\n",
              "      <th>close_1</th>\n",
              "    </tr>\n",
              "  </thead>\n",
              "  <tbody>\n",
              "    <tr>\n",
              "      <th>0</th>\n",
              "      <td>2018-07-12</td>\n",
              "      <td>IDX:INCO</td>\n",
              "      <td>4223.38488</td>\n",
              "      <td>4282.45320</td>\n",
              "      <td>4134.78240</td>\n",
              "      <td>4134.78240</td>\n",
              "      <td>1.097096e+07</td>\n",
              "      <td>4054.055696</td>\n",
              "      <td>4085.980288</td>\n",
              "      <td>4034.366256</td>\n",
              "      <td>...</td>\n",
              "      <td>119.440053</td>\n",
              "      <td>4232.076359</td>\n",
              "      <td>4022.552592</td>\n",
              "      <td>3813.028825</td>\n",
              "      <td>buy</td>\n",
              "      <td>buy</td>\n",
              "      <td>hold</td>\n",
              "      <td>hold</td>\n",
              "      <td>sell</td>\n",
              "      <td>4430.12400</td>\n",
              "    </tr>\n",
              "    <tr>\n",
              "      <th>1</th>\n",
              "      <td>2018-07-13</td>\n",
              "      <td>IDX:INCO</td>\n",
              "      <td>4184.00600</td>\n",
              "      <td>4430.12400</td>\n",
              "      <td>4184.00600</td>\n",
              "      <td>4430.12400</td>\n",
              "      <td>1.543233e+07</td>\n",
              "      <td>4140.689232</td>\n",
              "      <td>4200.694858</td>\n",
              "      <td>4079.651968</td>\n",
              "      <td>...</td>\n",
              "      <td>122.639869</td>\n",
              "      <td>4301.886428</td>\n",
              "      <td>4034.858492</td>\n",
              "      <td>3767.830556</td>\n",
              "      <td>hold</td>\n",
              "      <td>sell</td>\n",
              "      <td>hold</td>\n",
              "      <td>hold</td>\n",
              "      <td>sell</td>\n",
              "      <td>4410.43456</td>\n",
              "    </tr>\n",
              "    <tr>\n",
              "      <th>2</th>\n",
              "      <td>2018-07-16</td>\n",
              "      <td>IDX:INCO</td>\n",
              "      <td>4469.50288</td>\n",
              "      <td>4577.79480</td>\n",
              "      <td>4410.43456</td>\n",
              "      <td>4410.43456</td>\n",
              "      <td>9.484069e+06</td>\n",
              "      <td>4231.260656</td>\n",
              "      <td>4270.608092</td>\n",
              "      <td>4119.030848</td>\n",
              "      <td>...</td>\n",
              "      <td>128.279305</td>\n",
              "      <td>4362.516695</td>\n",
              "      <td>4050.117808</td>\n",
              "      <td>3737.718921</td>\n",
              "      <td>sell</td>\n",
              "      <td>sell</td>\n",
              "      <td>hold</td>\n",
              "      <td>hold</td>\n",
              "      <td>sell</td>\n",
              "      <td>4282.45320</td>\n",
              "    </tr>\n",
              "    <tr>\n",
              "      <th>3</th>\n",
              "      <td>2018-07-17</td>\n",
              "      <td>IDX:INCO</td>\n",
              "      <td>4380.90040</td>\n",
              "      <td>4390.74512</td>\n",
              "      <td>4252.91904</td>\n",
              "      <td>4282.45320</td>\n",
              "      <td>4.593325e+06</td>\n",
              "      <td>4294.266864</td>\n",
              "      <td>4274.556462</td>\n",
              "      <td>4151.518424</td>\n",
              "      <td>...</td>\n",
              "      <td>132.817976</td>\n",
              "      <td>4382.165869</td>\n",
              "      <td>4056.516876</td>\n",
              "      <td>3730.867883</td>\n",
              "      <td>hold</td>\n",
              "      <td>hold</td>\n",
              "      <td>hold</td>\n",
              "      <td>sell</td>\n",
              "      <td>sell</td>\n",
              "      <td>4282.45320</td>\n",
              "    </tr>\n",
              "    <tr>\n",
              "      <th>4</th>\n",
              "      <td>2018-07-18</td>\n",
              "      <td>IDX:INCO</td>\n",
              "      <td>4282.45320</td>\n",
              "      <td>4351.36624</td>\n",
              "      <td>4262.76376</td>\n",
              "      <td>4282.45320</td>\n",
              "      <td>6.116781e+06</td>\n",
              "      <td>4308.049472</td>\n",
              "      <td>4277.188708</td>\n",
              "      <td>4179.083640</td>\n",
              "      <td>...</td>\n",
              "      <td>136.126067</td>\n",
              "      <td>4409.277329</td>\n",
              "      <td>4072.760664</td>\n",
              "      <td>3736.243999</td>\n",
              "      <td>hold</td>\n",
              "      <td>hold</td>\n",
              "      <td>hold</td>\n",
              "      <td>hold</td>\n",
              "      <td>sell</td>\n",
              "      <td>4262.76376</td>\n",
              "    </tr>\n",
              "    <tr>\n",
              "      <th>...</th>\n",
              "      <td>...</td>\n",
              "      <td>...</td>\n",
              "      <td>...</td>\n",
              "      <td>...</td>\n",
              "      <td>...</td>\n",
              "      <td>...</td>\n",
              "      <td>...</td>\n",
              "      <td>...</td>\n",
              "      <td>...</td>\n",
              "      <td>...</td>\n",
              "      <td>...</td>\n",
              "      <td>...</td>\n",
              "      <td>...</td>\n",
              "      <td>...</td>\n",
              "      <td>...</td>\n",
              "      <td>...</td>\n",
              "      <td>...</td>\n",
              "      <td>...</td>\n",
              "      <td>...</td>\n",
              "      <td>...</td>\n",
              "      <td>...</td>\n",
              "    </tr>\n",
              "    <tr>\n",
              "      <th>1264</th>\n",
              "      <td>2023-09-19</td>\n",
              "      <td>IDX:INCO</td>\n",
              "      <td>5832.99660</td>\n",
              "      <td>5832.99660</td>\n",
              "      <td>5636.10220</td>\n",
              "      <td>5660.71400</td>\n",
              "      <td>6.861749e+06</td>\n",
              "      <td>5749.316480</td>\n",
              "      <td>5748.868959</td>\n",
              "      <td>5791.156540</td>\n",
              "      <td>...</td>\n",
              "      <td>-125.071543</td>\n",
              "      <td>5966.146215</td>\n",
              "      <td>5830.535420</td>\n",
              "      <td>5694.924625</td>\n",
              "      <td>hold</td>\n",
              "      <td>sell</td>\n",
              "      <td>hold</td>\n",
              "      <td>hold</td>\n",
              "      <td>sell</td>\n",
              "      <td>5636.10220</td>\n",
              "    </tr>\n",
              "    <tr>\n",
              "      <th>1265</th>\n",
              "      <td>2023-09-20</td>\n",
              "      <td>IDX:INCO</td>\n",
              "      <td>5660.71400</td>\n",
              "      <td>5759.16120</td>\n",
              "      <td>5636.10220</td>\n",
              "      <td>5636.10220</td>\n",
              "      <td>8.668301e+06</td>\n",
              "      <td>5734.549400</td>\n",
              "      <td>5711.280039</td>\n",
              "      <td>5764.083560</td>\n",
              "      <td>...</td>\n",
              "      <td>-124.535653</td>\n",
              "      <td>5975.745040</td>\n",
              "      <td>5818.229520</td>\n",
              "      <td>5660.714000</td>\n",
              "      <td>hold</td>\n",
              "      <td>hold</td>\n",
              "      <td>sell</td>\n",
              "      <td>hold</td>\n",
              "      <td>sell</td>\n",
              "      <td>5586.87860</td>\n",
              "    </tr>\n",
              "    <tr>\n",
              "      <th>1266</th>\n",
              "      <td>2023-09-21</td>\n",
              "      <td>IDX:INCO</td>\n",
              "      <td>5660.71400</td>\n",
              "      <td>5685.32580</td>\n",
              "      <td>5562.26680</td>\n",
              "      <td>5586.87860</td>\n",
              "      <td>7.978185e+06</td>\n",
              "      <td>5700.092880</td>\n",
              "      <td>5669.812893</td>\n",
              "      <td>5732.088220</td>\n",
              "      <td>...</td>\n",
              "      <td>-125.287292</td>\n",
              "      <td>5987.376987</td>\n",
              "      <td>5803.462440</td>\n",
              "      <td>5619.547893</td>\n",
              "      <td>hold</td>\n",
              "      <td>hold</td>\n",
              "      <td>hold</td>\n",
              "      <td>hold</td>\n",
              "      <td>sell</td>\n",
              "      <td>5611.49040</td>\n",
              "    </tr>\n",
              "    <tr>\n",
              "      <th>1267</th>\n",
              "      <td>2023-09-22</td>\n",
              "      <td>IDX:INCO</td>\n",
              "      <td>5586.87860</td>\n",
              "      <td>5660.71400</td>\n",
              "      <td>5562.26680</td>\n",
              "      <td>5611.49040</td>\n",
              "      <td>5.104259e+06</td>\n",
              "      <td>5660.714000</td>\n",
              "      <td>5650.372062</td>\n",
              "      <td>5714.859960</td>\n",
              "      <td>...</td>\n",
              "      <td>-126.128304</td>\n",
              "      <td>5991.164329</td>\n",
              "      <td>5791.156540</td>\n",
              "      <td>5591.148751</td>\n",
              "      <td>hold</td>\n",
              "      <td>hold</td>\n",
              "      <td>hold</td>\n",
              "      <td>hold</td>\n",
              "      <td>sell</td>\n",
              "      <td>5586.87860</td>\n",
              "    </tr>\n",
              "    <tr>\n",
              "      <th>1268</th>\n",
              "      <td>2023-09-25</td>\n",
              "      <td>IDX:INCO</td>\n",
              "      <td>5611.49040</td>\n",
              "      <td>5660.71400</td>\n",
              "      <td>5562.26680</td>\n",
              "      <td>5586.87860</td>\n",
              "      <td>6.064672e+06</td>\n",
              "      <td>5616.412760</td>\n",
              "      <td>5629.207575</td>\n",
              "      <td>5695.170520</td>\n",
              "      <td>...</td>\n",
              "      <td>-127.086441</td>\n",
              "      <td>5990.441385</td>\n",
              "      <td>5776.389460</td>\n",
              "      <td>5562.337535</td>\n",
              "      <td>sell</td>\n",
              "      <td>hold</td>\n",
              "      <td>hold</td>\n",
              "      <td>hold</td>\n",
              "      <td>sell</td>\n",
              "      <td>5488.43140</td>\n",
              "    </tr>\n",
              "  </tbody>\n",
              "</table>\n",
              "<p>1269 rows × 27 columns</p>\n",
              "</div>"
            ],
            "text/plain": [
              "         datetime    symbol        open        high         low       close  \\\n",
              "0     2018-07-12   IDX:INCO  4223.38488  4282.45320  4134.78240  4134.78240   \n",
              "1     2018-07-13   IDX:INCO  4184.00600  4430.12400  4184.00600  4430.12400   \n",
              "2     2018-07-16   IDX:INCO  4469.50288  4577.79480  4410.43456  4410.43456   \n",
              "3     2018-07-17   IDX:INCO  4380.90040  4390.74512  4252.91904  4282.45320   \n",
              "4     2018-07-18   IDX:INCO  4282.45320  4351.36624  4262.76376  4282.45320   \n",
              "...           ...       ...         ...         ...         ...         ...   \n",
              "1264  2023-09-19   IDX:INCO  5832.99660  5832.99660  5636.10220  5660.71400   \n",
              "1265  2023-09-20   IDX:INCO  5660.71400  5759.16120  5636.10220  5636.10220   \n",
              "1266  2023-09-21   IDX:INCO  5660.71400  5685.32580  5562.26680  5586.87860   \n",
              "1267  2023-09-22   IDX:INCO  5586.87860  5660.71400  5562.26680  5611.49040   \n",
              "1268  2023-09-25   IDX:INCO  5611.49040  5660.71400  5562.26680  5586.87860   \n",
              "\n",
              "            volume        SMA_5        EMA_5       SMA_10  ...  MACD_SIGNAL  \\\n",
              "0     1.097096e+07  4054.055696  4085.980288  4034.366256  ...   119.440053   \n",
              "1     1.543233e+07  4140.689232  4200.694858  4079.651968  ...   122.639869   \n",
              "2     9.484069e+06  4231.260656  4270.608092  4119.030848  ...   128.279305   \n",
              "3     4.593325e+06  4294.266864  4274.556462  4151.518424  ...   132.817976   \n",
              "4     6.116781e+06  4308.049472  4277.188708  4179.083640  ...   136.126067   \n",
              "...            ...          ...          ...          ...  ...          ...   \n",
              "1264  6.861749e+06  5749.316480  5748.868959  5791.156540  ...  -125.071543   \n",
              "1265  8.668301e+06  5734.549400  5711.280039  5764.083560  ...  -124.535653   \n",
              "1266  7.978185e+06  5700.092880  5669.812893  5732.088220  ...  -125.287292   \n",
              "1267  5.104259e+06  5660.714000  5650.372062  5714.859960  ...  -126.128304   \n",
              "1268  6.064672e+06  5616.412760  5629.207575  5695.170520  ...  -127.086441   \n",
              "\n",
              "        UPPERBAND   MIDDLEBAND    LOWERBAND  target_1  target_5  target_10  \\\n",
              "0     4232.076359  4022.552592  3813.028825       buy       buy       hold   \n",
              "1     4301.886428  4034.858492  3767.830556      hold      sell       hold   \n",
              "2     4362.516695  4050.117808  3737.718921      sell      sell       hold   \n",
              "3     4382.165869  4056.516876  3730.867883      hold      hold       hold   \n",
              "4     4409.277329  4072.760664  3736.243999      hold      hold       hold   \n",
              "...           ...          ...          ...       ...       ...        ...   \n",
              "1264  5966.146215  5830.535420  5694.924625      hold      sell       hold   \n",
              "1265  5975.745040  5818.229520  5660.714000      hold      hold       sell   \n",
              "1266  5987.376987  5803.462440  5619.547893      hold      hold       hold   \n",
              "1267  5991.164329  5791.156540  5591.148751      hold      hold       hold   \n",
              "1268  5990.441385  5776.389460  5562.337535      sell      hold       hold   \n",
              "\n",
              "      target_20  target_50     close_1  \n",
              "0          hold       sell  4430.12400  \n",
              "1          hold       sell  4410.43456  \n",
              "2          hold       sell  4282.45320  \n",
              "3          sell       sell  4282.45320  \n",
              "4          hold       sell  4262.76376  \n",
              "...         ...        ...         ...  \n",
              "1264       hold       sell  5636.10220  \n",
              "1265       hold       sell  5586.87860  \n",
              "1266       hold       sell  5611.49040  \n",
              "1267       hold       sell  5586.87860  \n",
              "1268       hold       sell  5488.43140  \n",
              "\n",
              "[1269 rows x 27 columns]"
            ]
          },
          "execution_count": 602,
          "metadata": {},
          "output_type": "execute_result"
        }
      ],
      "source": [
        "EMITEN = 'INCO'\n",
        "TARGET_DAY = 1\n",
        "file_name = f'Labelled Stock Data/Labelled_Stock_{EMITEN}.csv'\n",
        "df = pd.read_csv(file_name)\n",
        "df = close_target(df, TARGET_DAY, 'close')\n",
        "df = df.iloc[:-50]\n",
        "df"
      ]
    },
    {
      "cell_type": "markdown",
      "id": "455541e2",
      "metadata": {},
      "source": [
        "## Fit Scaler"
      ]
    },
    {
      "cell_type": "code",
      "execution_count": 603,
      "id": "0c02baf4",
      "metadata": {},
      "outputs": [
        {
          "data": {
            "text/html": [
              "<div>\n",
              "<style scoped>\n",
              "    .dataframe tbody tr th:only-of-type {\n",
              "        vertical-align: middle;\n",
              "    }\n",
              "\n",
              "    .dataframe tbody tr th {\n",
              "        vertical-align: top;\n",
              "    }\n",
              "\n",
              "    .dataframe thead th {\n",
              "        text-align: right;\n",
              "    }\n",
              "</style>\n",
              "<table border=\"1\" class=\"dataframe\">\n",
              "  <thead>\n",
              "    <tr style=\"text-align: right;\">\n",
              "      <th></th>\n",
              "      <th>datetime</th>\n",
              "      <th>symbol</th>\n",
              "      <th>open</th>\n",
              "      <th>high</th>\n",
              "      <th>low</th>\n",
              "      <th>close</th>\n",
              "      <th>volume</th>\n",
              "      <th>SMA_5</th>\n",
              "      <th>EMA_5</th>\n",
              "      <th>SMA_10</th>\n",
              "      <th>...</th>\n",
              "      <th>MACD_SIGNAL</th>\n",
              "      <th>UPPERBAND</th>\n",
              "      <th>MIDDLEBAND</th>\n",
              "      <th>LOWERBAND</th>\n",
              "      <th>target_1</th>\n",
              "      <th>target_5</th>\n",
              "      <th>target_10</th>\n",
              "      <th>target_20</th>\n",
              "      <th>target_50</th>\n",
              "      <th>close_1</th>\n",
              "    </tr>\n",
              "  </thead>\n",
              "  <tbody>\n",
              "    <tr>\n",
              "      <th>50</th>\n",
              "      <td>2018-09-25</td>\n",
              "      <td>IDX:INCO</td>\n",
              "      <td>3485.03088</td>\n",
              "      <td>3622.85696</td>\n",
              "      <td>3475.18616</td>\n",
              "      <td>3583.47808</td>\n",
              "      <td>1.251971e+07</td>\n",
              "      <td>3488.968768</td>\n",
              "      <td>3496.758044</td>\n",
              "      <td>3380.676848</td>\n",
              "      <td>...</td>\n",
              "      <td>-165.265693</td>\n",
              "      <td>3907.012399</td>\n",
              "      <td>3441.221876</td>\n",
              "      <td>2975.431353</td>\n",
              "      <td>hold</td>\n",
              "      <td>sell</td>\n",
              "      <td>sell</td>\n",
              "      <td>sell</td>\n",
              "      <td>sell</td>\n",
              "      <td>3632.70168</td>\n",
              "    </tr>\n",
              "    <tr>\n",
              "      <th>51</th>\n",
              "      <td>2018-09-26</td>\n",
              "      <td>IDX:INCO</td>\n",
              "      <td>3603.16752</td>\n",
              "      <td>3672.08056</td>\n",
              "      <td>3553.94392</td>\n",
              "      <td>3632.70168</td>\n",
              "      <td>7.430887e+06</td>\n",
              "      <td>3559.850752</td>\n",
              "      <td>3542.072589</td>\n",
              "      <td>3416.117840</td>\n",
              "      <td>...</td>\n",
              "      <td>-149.518217</td>\n",
              "      <td>3866.880303</td>\n",
              "      <td>3430.392684</td>\n",
              "      <td>2993.905065</td>\n",
              "      <td>hold</td>\n",
              "      <td>sell</td>\n",
              "      <td>hold</td>\n",
              "      <td>sell</td>\n",
              "      <td>sell</td>\n",
              "      <td>3642.54640</td>\n",
              "    </tr>\n",
              "  </tbody>\n",
              "</table>\n",
              "<p>2 rows × 27 columns</p>\n",
              "</div>"
            ],
            "text/plain": [
              "       datetime    symbol        open        high         low       close  \\\n",
              "50  2018-09-25   IDX:INCO  3485.03088  3622.85696  3475.18616  3583.47808   \n",
              "51  2018-09-26   IDX:INCO  3603.16752  3672.08056  3553.94392  3632.70168   \n",
              "\n",
              "          volume        SMA_5        EMA_5       SMA_10  ...  MACD_SIGNAL  \\\n",
              "50  1.251971e+07  3488.968768  3496.758044  3380.676848  ...  -165.265693   \n",
              "51  7.430887e+06  3559.850752  3542.072589  3416.117840  ...  -149.518217   \n",
              "\n",
              "      UPPERBAND   MIDDLEBAND    LOWERBAND  target_1  target_5  target_10  \\\n",
              "50  3907.012399  3441.221876  2975.431353      hold      sell       sell   \n",
              "51  3866.880303  3430.392684  2993.905065      hold      sell       hold   \n",
              "\n",
              "    target_20  target_50     close_1  \n",
              "50       sell       sell  3632.70168  \n",
              "51       sell       sell  3642.54640  \n",
              "\n",
              "[2 rows x 27 columns]"
            ]
          },
          "execution_count": 603,
          "metadata": {},
          "output_type": "execute_result"
        }
      ],
      "source": [
        "df1 = df['close'].iloc[50:].values\n",
        "df_y = df[f'close_{TARGET_DAY}'].iloc[50:].values\n",
        "\n",
        "m = df1.shape[0] # panjang dataset\n",
        "r = 0.8 #ratio jumlah data training terhadap dataset\n",
        "l = TARGET_DAY #panjang potongan data sekuen untuk memprediksi 1 output berikutnya, UPDATE: panjang sekuens disamakan dengan target hari\n",
        "n = 1\n",
        "\n",
        "x_train, x_test, y_train, y_test = train_test_split(df1, df_y, test_size=1-r, random_state=0)\n",
        "x_train = x_train.reshape([-1, 1])\n",
        "y_train = y_train.reshape([-1, 1])\n",
        "\n",
        "scaler = StandardScaler()\n",
        "scaler_y = StandardScaler()\n",
        "x_train = scaler.fit_transform(x_train)\n",
        "y_train = scaler_y.fit_transform(y_train)\n",
        "df.iloc[50:52]"
      ]
    },
    {
      "cell_type": "markdown",
      "id": "b29dc549",
      "metadata": {},
      "source": [
        "## Create Sliding Windows"
      ]
    },
    {
      "cell_type": "code",
      "execution_count": 604,
      "id": "46a97e64",
      "metadata": {},
      "outputs": [
        {
          "name": "stdout",
          "output_type": "stream",
          "text": [
            "(1219, 1, 1)\n"
          ]
        },
        {
          "data": {
            "text/plain": [
              "array([[3583.47808]])"
            ]
          },
          "execution_count": 604,
          "metadata": {},
          "output_type": "execute_result"
        }
      ],
      "source": [
        "arr = df['close'].values\n",
        "arr = arr.reshape(df.shape[0], n)\n",
        "df_y = df_y.reshape([-1, 1])\n",
        "new_arr = create_my_dataset(arr)\n",
        "print(new_arr.shape)\n",
        "new_arr[0, -10:]"
      ]
    },
    {
      "cell_type": "code",
      "execution_count": 605,
      "id": "7b6e71d6",
      "metadata": {},
      "outputs": [
        {
          "name": "stdout",
          "output_type": "stream",
          "text": [
            "(1219, 1, 1)\n"
          ]
        },
        {
          "data": {
            "text/plain": [
              "array([[-0.71435621]])"
            ]
          },
          "execution_count": 605,
          "metadata": {},
          "output_type": "execute_result"
        }
      ],
      "source": [
        "for i in range(new_arr.shape[0]):\n",
        "    new_arr[i] = scaler.transform(new_arr[i])\n",
        "df_y = scaler_y.transform(df_y)\n",
        "print(new_arr.shape)\n",
        "new_arr[0, -10:]"
      ]
    },
    {
      "cell_type": "code",
      "execution_count": 606,
      "id": "939bd62f",
      "metadata": {},
      "outputs": [
        {
          "name": "stdout",
          "output_type": "stream",
          "text": [
            "975\n",
            "244\n"
          ]
        },
        {
          "data": {
            "text/plain": [
              "array([[1.91239738]])"
            ]
          },
          "execution_count": 606,
          "metadata": {},
          "output_type": "execute_result"
        }
      ],
      "source": [
        "x_train, x_test, y_train, y_test = train_test_split(new_arr, df_y, test_size=1-r, random_state=0)\n",
        "print(x_train.shape[0])\n",
        "print(x_test.shape[0])\n",
        "x_train[0, -10:]"
      ]
    },
    {
      "cell_type": "markdown",
      "id": "51b86d7b",
      "metadata": {},
      "source": [
        "## Modelling"
      ]
    },
    {
      "cell_type": "code",
      "execution_count": 607,
      "id": "b4b4e414",
      "metadata": {},
      "outputs": [
        {
          "name": "stderr",
          "output_type": "stream",
          "text": [
            "c:\\Users\\hufah\\.conda\\envs\\riset_saham\\Lib\\site-packages\\keras\\src\\layers\\rnn\\rnn.py:204: UserWarning: Do not pass an `input_shape`/`input_dim` argument to a layer. When using Sequential models, prefer using an `Input(shape)` object as the first layer in the model instead.\n",
            "  super().__init__(**kwargs)\n"
          ]
        }
      ],
      "source": [
        "mode = 'LSTM'\n",
        "modes = ['LSTM'\n",
        "         ,'GRU'\n",
        "         ,'RNN'\n",
        "         ]\n",
        "\n",
        "for mode in modes:\n",
        "    random.seed(0)\n",
        "    tf.random.set_seed(0)\n",
        "    np.random.seed(0)\n",
        "    if mode == 'LSTM':\n",
        "    #arsitektur LSTM\n",
        "        model = Sequential()\n",
        "        model.add(LSTM(units=96, return_sequences=True, input_shape=(x_train.shape[1],n))) #input n fitur\n",
        "        model.add(Dropout(0.2))\n",
        "        model.add(LSTM(units=96, return_sequences=True))\n",
        "        model.add(Dropout(0.2))\n",
        "        model.add(LSTM(units=96))\n",
        "        model.add(Dropout(0.2))\n",
        "        model.add(Dense(units=1)) #3\n",
        "\n",
        "    elif mode == 'GRU':\n",
        "    #arsitektur GRU\n",
        "        model = Sequential()\n",
        "        model.add(GRU(units=96, return_sequences=True, input_shape=(x_train.shape[1],n), activation='tanh')) #input n fitur\n",
        "        model.add(Dropout(0.2))\n",
        "        model.add(GRU(units=96, return_sequences=True, activation='tanh'))\n",
        "        model.add(Dropout(0.2))\n",
        "        model.add(GRU(units=96, activation='tanh'))\n",
        "        model.add(Dropout(0.2))\n",
        "        model.add(Dense(units=1)) #3\n",
        "\n",
        "    elif mode == 'RNN':\n",
        "    #arsitektur Simple RNN\n",
        "        model = Sequential()\n",
        "        model.add(SimpleRNN(units=96, return_sequences=True, input_shape=(x_train.shape[1],n))) #input n fitur\n",
        "        model.add(Dropout(0.2))\n",
        "        model.add(SimpleRNN(units=96, return_sequences=True))\n",
        "        model.add(Dropout(0.2))\n",
        "        model.add(SimpleRNN(units=96))\n",
        "        model.add(Dropout(0.2))\n",
        "        model.add(Dense(units=1)) #3\n",
        "\n",
        "    model.compile(loss='mean_squared_error', optimizer='adam')\n",
        "\n",
        "    results_dir = f'Price Prediction Model/{EMITEN}'\n",
        "    if not os.path.exists(results_dir):\n",
        "        os.makedirs(results_dir)\n",
        "\n",
        "    output_name = f'{results_dir}/{mode}_{EMITEN}_Target_{TARGET_DAY}.h5'\n",
        "    if (not os.path.exists(output_name)):\n",
        "        model.fit(x_train, y_train, epochs=50, batch_size=32)\n",
        "        model.save(output_name)"
      ]
    },
    {
      "cell_type": "markdown",
      "id": "00dfc0fa",
      "metadata": {},
      "source": [
        "## Save Prediction Results"
      ]
    },
    {
      "cell_type": "code",
      "execution_count": 608,
      "id": "ae53b6f6",
      "metadata": {},
      "outputs": [
        {
          "name": "stderr",
          "output_type": "stream",
          "text": [
            "WARNING:absl:Compiled the loaded model, but the compiled metrics have yet to be built. `model.compile_metrics` will be empty until you train or evaluate the model.\n"
          ]
        },
        {
          "name": "stdout",
          "output_type": "stream",
          "text": [
            "\u001b[1m31/31\u001b[0m \u001b[32m━━━━━━━━━━━━━━━━━━━━\u001b[0m\u001b[37m\u001b[0m \u001b[1m1s\u001b[0m 14ms/step \n",
            "\u001b[1m8/8\u001b[0m \u001b[32m━━━━━━━━━━━━━━━━━━━━\u001b[0m\u001b[37m\u001b[0m \u001b[1m0s\u001b[0m 1ms/step \n"
          ]
        },
        {
          "name": "stderr",
          "output_type": "stream",
          "text": [
            "WARNING:absl:Compiled the loaded model, but the compiled metrics have yet to be built. `model.compile_metrics` will be empty until you train or evaluate the model.\n"
          ]
        },
        {
          "name": "stdout",
          "output_type": "stream",
          "text": [
            "\u001b[1m31/31\u001b[0m \u001b[32m━━━━━━━━━━━━━━━━━━━━\u001b[0m\u001b[37m\u001b[0m \u001b[1m1s\u001b[0m 24ms/step \n",
            "\u001b[1m8/8\u001b[0m \u001b[32m━━━━━━━━━━━━━━━━━━━━\u001b[0m\u001b[37m\u001b[0m \u001b[1m0s\u001b[0m 2ms/step \n"
          ]
        },
        {
          "name": "stderr",
          "output_type": "stream",
          "text": [
            "WARNING:absl:Compiled the loaded model, but the compiled metrics have yet to be built. `model.compile_metrics` will be empty until you train or evaluate the model.\n"
          ]
        },
        {
          "name": "stdout",
          "output_type": "stream",
          "text": [
            "\u001b[1m31/31\u001b[0m \u001b[32m━━━━━━━━━━━━━━━━━━━━\u001b[0m\u001b[37m\u001b[0m \u001b[1m1s\u001b[0m 10ms/step \n",
            "\u001b[1m8/8\u001b[0m \u001b[32m━━━━━━━━━━━━━━━━━━━━\u001b[0m\u001b[37m\u001b[0m \u001b[1m0s\u001b[0m 1ms/step \n"
          ]
        }
      ],
      "source": [
        "modes = ['LSTM'\n",
        "         ,'GRU'\n",
        "         ,'RNN'\n",
        "         ]\n",
        "\n",
        "for mode in modes:\n",
        "    model_name = f'{results_dir}/{mode}_{EMITEN}_Target_{TARGET_DAY}.h5'\n",
        "    model = load_model(model_name)\n",
        "\n",
        "    # make predictions\n",
        "    trainPredict = model.predict(x_train)\n",
        "    testPredict = model.predict(x_test)\n",
        "\n",
        "    # invert predictions\n",
        "    trainPredict = scaler_y.inverse_transform(trainPredict) #prediksi harga data training\n",
        "    trainY = scaler_y.inverse_transform(y_train)\n",
        "    testPredict = scaler_y.inverse_transform(testPredict) #prediksi harga data testing\n",
        "    testY = scaler_y.inverse_transform(y_test)\n",
        "\n",
        "    tmp = df.iloc[50:]\n",
        "    for day in [1, 5, 10, 20, 50]:\n",
        "        if TARGET_DAY != day:\n",
        "            tmp = tmp.drop(f'target_{day}', axis=1)\n",
        "\n",
        "    train_df, test_df = train_test_split(tmp, test_size=1-r,  random_state=0)\n",
        "\n",
        "    if TARGET_DAY == 1:\n",
        "        percent_threshold = 1.5\n",
        "    elif TARGET_DAY == 5:\n",
        "        percent_threshold = 3\n",
        "    elif TARGET_DAY == 10:\n",
        "        percent_threshold = 6\n",
        "    elif TARGET_DAY == 20:\n",
        "        percent_threshold = 9\n",
        "    elif TARGET_DAY == 50:\n",
        "        percent_threshold = 11\n",
        "    else:\n",
        "        percent_threshold = 'None'\n",
        "\n",
        "\n",
        "    trainCategoryPredict = []\n",
        "    for i in range(len(trainPredict)):\n",
        "        pred = trainPredict[i]\n",
        "        today = train_df['close'].iloc[i]\n",
        "        chg = ((pred - today) / today) * 100\n",
        "        labelPredict = 'None'\n",
        "        labelY = 'None' \n",
        "\n",
        "        if pred > today and chg >= percent_threshold:\n",
        "            labelPredict = 2\n",
        "        elif pred < today and abs(chg) >= percent_threshold:\n",
        "            labelPredict = 0\n",
        "        elif abs(chg) < percent_threshold:\n",
        "            labelPredict = 1\n",
        "\n",
        "        trainCategoryPredict.append(labelPredict)\n",
        "\n",
        "    testCategoryPredict = []\n",
        "    for i in range(len(testPredict)):\n",
        "        pred = testPredict[i]\n",
        "        today = test_df['close'].iloc[i]\n",
        "        chg = ((pred - today) / today) * 100\n",
        "        labelPredict = 'None' \n",
        "\n",
        "        if pred > today and chg >= percent_threshold:\n",
        "            labelPredict = 2\n",
        "        elif pred < today and abs(chg) >= percent_threshold:\n",
        "            labelPredict = 0\n",
        "        elif abs(chg) < percent_threshold:\n",
        "            labelPredict = 1\n",
        "\n",
        "        testCategoryPredict.append(labelPredict)\n",
        "\n",
        "    train_df = train_df.assign(type='train')\n",
        "    train_df = train_df.assign(close_prediction=trainPredict)\n",
        "    train_df = train_df.assign(prediction=trainCategoryPredict)\n",
        "    test_df = test_df.assign(type='test')\n",
        "    test_df = test_df.assign(close_prediction=testPredict)\n",
        "    test_df = test_df.assign(prediction=testCategoryPredict)\n",
        "    result_df = pd.concat([train_df, test_df])\n",
        "\n",
        "    col = f'target_{TARGET_DAY}'\n",
        "    pred_col = f'close_{TARGET_DAY}'\n",
        "    le = LabelEncoder()\n",
        "    le.classes_ = np.array([\"sell\", \"hold\", \"buy\"])\n",
        "    result_df.loc[:, col] = le.transform(result_df.loc[:, col])\n",
        "    result_df = result_df.rename(columns={col:'ground_truth'})\n",
        "    result_df = result_df.rename(columns={pred_col:'close_ground_truth'})\n",
        "\n",
        "    data_results_dir = f'Result Price Prediction/{EMITEN}'\n",
        "    if not os.path.exists(data_results_dir):\n",
        "        os.makedirs(data_results_dir)\n",
        "\n",
        "    result_df.reset_index(drop=True, inplace=True)\n",
        "    result_df.to_csv(f'{data_results_dir}/{mode}_{EMITEN}_Target_{TARGET_DAY}.csv')"
      ]
    },
    {
      "cell_type": "markdown",
      "id": "73878947",
      "metadata": {},
      "source": [
        "# Compiled Process"
      ]
    },
    {
      "cell_type": "code",
      "execution_count": 8,
      "id": "27cf4edb",
      "metadata": {},
      "outputs": [
        {
          "name": "stdout",
          "output_type": "stream",
          "text": [
            "(1219, 1, 1)\n",
            "975\n",
            "244\n"
          ]
        },
        {
          "name": "stderr",
          "output_type": "stream",
          "text": [
            "c:\\Users\\hufah\\.conda\\envs\\riset_saham\\Lib\\site-packages\\keras\\src\\layers\\rnn\\rnn.py:204: UserWarning: Do not pass an `input_shape`/`input_dim` argument to a layer. When using Sequential models, prefer using an `Input(shape)` object as the first layer in the model instead.\n",
            "  super().__init__(**kwargs)\n",
            "WARNING:absl:Compiled the loaded model, but the compiled metrics have yet to be built. `model.compile_metrics` will be empty until you train or evaluate the model.\n"
          ]
        },
        {
          "name": "stdout",
          "output_type": "stream",
          "text": [
            "\u001b[1m31/31\u001b[0m \u001b[32m━━━━━━━━━━━━━━━━━━━━\u001b[0m\u001b[37m\u001b[0m \u001b[1m1s\u001b[0m 14ms/step \n",
            "\u001b[1m8/8\u001b[0m \u001b[32m━━━━━━━━━━━━━━━━━━━━\u001b[0m\u001b[37m\u001b[0m \u001b[1m0s\u001b[0m 1ms/step \n"
          ]
        },
        {
          "name": "stderr",
          "output_type": "stream",
          "text": [
            "c:\\Users\\hufah\\.conda\\envs\\riset_saham\\Lib\\site-packages\\keras\\src\\layers\\rnn\\rnn.py:204: UserWarning: Do not pass an `input_shape`/`input_dim` argument to a layer. When using Sequential models, prefer using an `Input(shape)` object as the first layer in the model instead.\n",
            "  super().__init__(**kwargs)\n",
            "WARNING:absl:Compiled the loaded model, but the compiled metrics have yet to be built. `model.compile_metrics` will be empty until you train or evaluate the model.\n"
          ]
        },
        {
          "name": "stdout",
          "output_type": "stream",
          "text": [
            "\u001b[1m31/31\u001b[0m \u001b[32m━━━━━━━━━━━━━━━━━━━━\u001b[0m\u001b[37m\u001b[0m \u001b[1m1s\u001b[0m 23ms/step \n",
            "\u001b[1m8/8\u001b[0m \u001b[32m━━━━━━━━━━━━━━━━━━━━\u001b[0m\u001b[37m\u001b[0m \u001b[1m0s\u001b[0m 2ms/step \n"
          ]
        },
        {
          "name": "stderr",
          "output_type": "stream",
          "text": [
            "c:\\Users\\hufah\\.conda\\envs\\riset_saham\\Lib\\site-packages\\keras\\src\\layers\\rnn\\rnn.py:204: UserWarning: Do not pass an `input_shape`/`input_dim` argument to a layer. When using Sequential models, prefer using an `Input(shape)` object as the first layer in the model instead.\n",
            "  super().__init__(**kwargs)\n",
            "WARNING:absl:Compiled the loaded model, but the compiled metrics have yet to be built. `model.compile_metrics` will be empty until you train or evaluate the model.\n"
          ]
        },
        {
          "name": "stdout",
          "output_type": "stream",
          "text": [
            "\u001b[1m31/31\u001b[0m \u001b[32m━━━━━━━━━━━━━━━━━━━━\u001b[0m\u001b[37m\u001b[0m \u001b[1m1s\u001b[0m 15ms/step\n",
            "\u001b[1m8/8\u001b[0m \u001b[32m━━━━━━━━━━━━━━━━━━━━\u001b[0m\u001b[37m\u001b[0m \u001b[1m0s\u001b[0m 2ms/step \n",
            "(1219, 5, 1)\n",
            "975\n",
            "244\n"
          ]
        },
        {
          "name": "stderr",
          "output_type": "stream",
          "text": [
            "c:\\Users\\hufah\\.conda\\envs\\riset_saham\\Lib\\site-packages\\keras\\src\\layers\\rnn\\rnn.py:204: UserWarning: Do not pass an `input_shape`/`input_dim` argument to a layer. When using Sequential models, prefer using an `Input(shape)` object as the first layer in the model instead.\n",
            "  super().__init__(**kwargs)\n",
            "WARNING:absl:Compiled the loaded model, but the compiled metrics have yet to be built. `model.compile_metrics` will be empty until you train or evaluate the model.\n"
          ]
        },
        {
          "name": "stdout",
          "output_type": "stream",
          "text": [
            "\u001b[1m31/31\u001b[0m \u001b[32m━━━━━━━━━━━━━━━━━━━━\u001b[0m\u001b[37m\u001b[0m \u001b[1m1s\u001b[0m 14ms/step\n",
            "\u001b[1m8/8\u001b[0m \u001b[32m━━━━━━━━━━━━━━━━━━━━\u001b[0m\u001b[37m\u001b[0m \u001b[1m0s\u001b[0m 3ms/step \n"
          ]
        },
        {
          "name": "stderr",
          "output_type": "stream",
          "text": [
            "c:\\Users\\hufah\\.conda\\envs\\riset_saham\\Lib\\site-packages\\keras\\src\\layers\\rnn\\rnn.py:204: UserWarning: Do not pass an `input_shape`/`input_dim` argument to a layer. When using Sequential models, prefer using an `Input(shape)` object as the first layer in the model instead.\n",
            "  super().__init__(**kwargs)\n",
            "WARNING:absl:Compiled the loaded model, but the compiled metrics have yet to be built. `model.compile_metrics` will be empty until you train or evaluate the model.\n"
          ]
        },
        {
          "name": "stdout",
          "output_type": "stream",
          "text": [
            "\u001b[1m31/31\u001b[0m \u001b[32m━━━━━━━━━━━━━━━━━━━━\u001b[0m\u001b[37m\u001b[0m \u001b[1m1s\u001b[0m 17ms/step\n",
            "\u001b[1m8/8\u001b[0m \u001b[32m━━━━━━━━━━━━━━━━━━━━\u001b[0m\u001b[37m\u001b[0m \u001b[1m0s\u001b[0m 2ms/step \n"
          ]
        },
        {
          "name": "stderr",
          "output_type": "stream",
          "text": [
            "c:\\Users\\hufah\\.conda\\envs\\riset_saham\\Lib\\site-packages\\keras\\src\\layers\\rnn\\rnn.py:204: UserWarning: Do not pass an `input_shape`/`input_dim` argument to a layer. When using Sequential models, prefer using an `Input(shape)` object as the first layer in the model instead.\n",
            "  super().__init__(**kwargs)\n",
            "WARNING:absl:Compiled the loaded model, but the compiled metrics have yet to be built. `model.compile_metrics` will be empty until you train or evaluate the model.\n"
          ]
        },
        {
          "name": "stdout",
          "output_type": "stream",
          "text": [
            "\u001b[1m31/31\u001b[0m \u001b[32m━━━━━━━━━━━━━━━━━━━━\u001b[0m\u001b[37m\u001b[0m \u001b[1m1s\u001b[0m 16ms/step\n",
            "\u001b[1m8/8\u001b[0m \u001b[32m━━━━━━━━━━━━━━━━━━━━\u001b[0m\u001b[37m\u001b[0m \u001b[1m0s\u001b[0m 2ms/step \n",
            "(1219, 10, 1)\n",
            "975\n",
            "244\n"
          ]
        },
        {
          "name": "stderr",
          "output_type": "stream",
          "text": [
            "c:\\Users\\hufah\\.conda\\envs\\riset_saham\\Lib\\site-packages\\keras\\src\\layers\\rnn\\rnn.py:204: UserWarning: Do not pass an `input_shape`/`input_dim` argument to a layer. When using Sequential models, prefer using an `Input(shape)` object as the first layer in the model instead.\n",
            "  super().__init__(**kwargs)\n",
            "WARNING:absl:Compiled the loaded model, but the compiled metrics have yet to be built. `model.compile_metrics` will be empty until you train or evaluate the model.\n"
          ]
        },
        {
          "name": "stdout",
          "output_type": "stream",
          "text": [
            "\u001b[1m31/31\u001b[0m \u001b[32m━━━━━━━━━━━━━━━━━━━━\u001b[0m\u001b[37m\u001b[0m \u001b[1m1s\u001b[0m 18ms/step\n",
            "\u001b[1m8/8\u001b[0m \u001b[32m━━━━━━━━━━━━━━━━━━━━\u001b[0m\u001b[37m\u001b[0m \u001b[1m0s\u001b[0m 4ms/step \n"
          ]
        },
        {
          "name": "stderr",
          "output_type": "stream",
          "text": [
            "c:\\Users\\hufah\\.conda\\envs\\riset_saham\\Lib\\site-packages\\keras\\src\\layers\\rnn\\rnn.py:204: UserWarning: Do not pass an `input_shape`/`input_dim` argument to a layer. When using Sequential models, prefer using an `Input(shape)` object as the first layer in the model instead.\n",
            "  super().__init__(**kwargs)\n",
            "WARNING:absl:Compiled the loaded model, but the compiled metrics have yet to be built. `model.compile_metrics` will be empty until you train or evaluate the model.\n"
          ]
        },
        {
          "name": "stdout",
          "output_type": "stream",
          "text": [
            "\u001b[1m31/31\u001b[0m \u001b[32m━━━━━━━━━━━━━━━━━━━━\u001b[0m\u001b[37m\u001b[0m \u001b[1m1s\u001b[0m 18ms/step\n",
            "\u001b[1m8/8\u001b[0m \u001b[32m━━━━━━━━━━━━━━━━━━━━\u001b[0m\u001b[37m\u001b[0m \u001b[1m0s\u001b[0m 4ms/step \n"
          ]
        },
        {
          "name": "stderr",
          "output_type": "stream",
          "text": [
            "c:\\Users\\hufah\\.conda\\envs\\riset_saham\\Lib\\site-packages\\keras\\src\\layers\\rnn\\rnn.py:204: UserWarning: Do not pass an `input_shape`/`input_dim` argument to a layer. When using Sequential models, prefer using an `Input(shape)` object as the first layer in the model instead.\n",
            "  super().__init__(**kwargs)\n",
            "WARNING:absl:Compiled the loaded model, but the compiled metrics have yet to be built. `model.compile_metrics` will be empty until you train or evaluate the model.\n"
          ]
        },
        {
          "name": "stdout",
          "output_type": "stream",
          "text": [
            "\u001b[1m31/31\u001b[0m \u001b[32m━━━━━━━━━━━━━━━━━━━━\u001b[0m\u001b[37m\u001b[0m \u001b[1m1s\u001b[0m 17ms/step\n",
            "\u001b[1m8/8\u001b[0m \u001b[32m━━━━━━━━━━━━━━━━━━━━\u001b[0m\u001b[37m\u001b[0m \u001b[1m0s\u001b[0m 3ms/step \n",
            "(1219, 20, 1)\n",
            "975\n",
            "244\n"
          ]
        },
        {
          "name": "stderr",
          "output_type": "stream",
          "text": [
            "c:\\Users\\hufah\\.conda\\envs\\riset_saham\\Lib\\site-packages\\keras\\src\\layers\\rnn\\rnn.py:204: UserWarning: Do not pass an `input_shape`/`input_dim` argument to a layer. When using Sequential models, prefer using an `Input(shape)` object as the first layer in the model instead.\n",
            "  super().__init__(**kwargs)\n",
            "WARNING:absl:Compiled the loaded model, but the compiled metrics have yet to be built. `model.compile_metrics` will be empty until you train or evaluate the model.\n"
          ]
        },
        {
          "name": "stdout",
          "output_type": "stream",
          "text": [
            "\u001b[1m31/31\u001b[0m \u001b[32m━━━━━━━━━━━━━━━━━━━━\u001b[0m\u001b[37m\u001b[0m \u001b[1m1s\u001b[0m 20ms/step\n",
            "\u001b[1m8/8\u001b[0m \u001b[32m━━━━━━━━━━━━━━━━━━━━\u001b[0m\u001b[37m\u001b[0m \u001b[1m0s\u001b[0m 7ms/step\n"
          ]
        },
        {
          "name": "stderr",
          "output_type": "stream",
          "text": [
            "c:\\Users\\hufah\\.conda\\envs\\riset_saham\\Lib\\site-packages\\keras\\src\\layers\\rnn\\rnn.py:204: UserWarning: Do not pass an `input_shape`/`input_dim` argument to a layer. When using Sequential models, prefer using an `Input(shape)` object as the first layer in the model instead.\n",
            "  super().__init__(**kwargs)\n",
            "WARNING:absl:Compiled the loaded model, but the compiled metrics have yet to be built. `model.compile_metrics` will be empty until you train or evaluate the model.\n"
          ]
        },
        {
          "name": "stdout",
          "output_type": "stream",
          "text": [
            "\u001b[1m31/31\u001b[0m \u001b[32m━━━━━━━━━━━━━━━━━━━━\u001b[0m\u001b[37m\u001b[0m \u001b[1m1s\u001b[0m 24ms/step\n",
            "\u001b[1m8/8\u001b[0m \u001b[32m━━━━━━━━━━━━━━━━━━━━\u001b[0m\u001b[37m\u001b[0m \u001b[1m0s\u001b[0m 7ms/step \n"
          ]
        },
        {
          "name": "stderr",
          "output_type": "stream",
          "text": [
            "c:\\Users\\hufah\\.conda\\envs\\riset_saham\\Lib\\site-packages\\keras\\src\\layers\\rnn\\rnn.py:204: UserWarning: Do not pass an `input_shape`/`input_dim` argument to a layer. When using Sequential models, prefer using an `Input(shape)` object as the first layer in the model instead.\n",
            "  super().__init__(**kwargs)\n",
            "WARNING:absl:Compiled the loaded model, but the compiled metrics have yet to be built. `model.compile_metrics` will be empty until you train or evaluate the model.\n"
          ]
        },
        {
          "name": "stdout",
          "output_type": "stream",
          "text": [
            "\u001b[1m31/31\u001b[0m \u001b[32m━━━━━━━━━━━━━━━━━━━━\u001b[0m\u001b[37m\u001b[0m \u001b[1m1s\u001b[0m 16ms/step\n",
            "\u001b[1m8/8\u001b[0m \u001b[32m━━━━━━━━━━━━━━━━━━━━\u001b[0m\u001b[37m\u001b[0m \u001b[1m0s\u001b[0m 5ms/step \n"
          ]
        },
        {
          "name": "stderr",
          "output_type": "stream",
          "text": [
            "c:\\Users\\hufah\\.conda\\envs\\riset_saham\\Lib\\site-packages\\keras\\src\\layers\\rnn\\rnn.py:204: UserWarning: Do not pass an `input_shape`/`input_dim` argument to a layer. When using Sequential models, prefer using an `Input(shape)` object as the first layer in the model instead.\n",
            "  super().__init__(**kwargs)\n",
            "WARNING:absl:Compiled the loaded model, but the compiled metrics have yet to be built. `model.compile_metrics` will be empty until you train or evaluate the model.\n"
          ]
        },
        {
          "name": "stdout",
          "output_type": "stream",
          "text": [
            "(1219, 50, 1)\n",
            "975\n",
            "244\n",
            "\u001b[1m31/31\u001b[0m \u001b[32m━━━━━━━━━━━━━━━━━━━━\u001b[0m\u001b[37m\u001b[0m \u001b[1m1s\u001b[0m 34ms/step\n",
            "\u001b[1m8/8\u001b[0m \u001b[32m━━━━━━━━━━━━━━━━━━━━\u001b[0m\u001b[37m\u001b[0m \u001b[1m0s\u001b[0m 23ms/step\n"
          ]
        },
        {
          "name": "stderr",
          "output_type": "stream",
          "text": [
            "c:\\Users\\hufah\\.conda\\envs\\riset_saham\\Lib\\site-packages\\keras\\src\\layers\\rnn\\rnn.py:204: UserWarning: Do not pass an `input_shape`/`input_dim` argument to a layer. When using Sequential models, prefer using an `Input(shape)` object as the first layer in the model instead.\n",
            "  super().__init__(**kwargs)\n",
            "WARNING:absl:Compiled the loaded model, but the compiled metrics have yet to be built. `model.compile_metrics` will be empty until you train or evaluate the model.\n"
          ]
        },
        {
          "name": "stdout",
          "output_type": "stream",
          "text": [
            "\u001b[1m31/31\u001b[0m \u001b[32m━━━━━━━━━━━━━━━━━━━━\u001b[0m\u001b[37m\u001b[0m \u001b[1m1s\u001b[0m 34ms/step\n",
            "\u001b[1m8/8\u001b[0m \u001b[32m━━━━━━━━━━━━━━━━━━━━\u001b[0m\u001b[37m\u001b[0m \u001b[1m0s\u001b[0m 19ms/step\n"
          ]
        },
        {
          "name": "stderr",
          "output_type": "stream",
          "text": [
            "c:\\Users\\hufah\\.conda\\envs\\riset_saham\\Lib\\site-packages\\keras\\src\\layers\\rnn\\rnn.py:204: UserWarning: Do not pass an `input_shape`/`input_dim` argument to a layer. When using Sequential models, prefer using an `Input(shape)` object as the first layer in the model instead.\n",
            "  super().__init__(**kwargs)\n",
            "WARNING:absl:Compiled the loaded model, but the compiled metrics have yet to be built. `model.compile_metrics` will be empty until you train or evaluate the model.\n"
          ]
        },
        {
          "name": "stdout",
          "output_type": "stream",
          "text": [
            "\u001b[1m31/31\u001b[0m \u001b[32m━━━━━━━━━━━━━━━━━━━━\u001b[0m\u001b[37m\u001b[0m \u001b[1m1s\u001b[0m 20ms/step\n",
            "\u001b[1m8/8\u001b[0m \u001b[32m━━━━━━━━━━━━━━━━━━━━\u001b[0m\u001b[37m\u001b[0m \u001b[1m0s\u001b[0m 8ms/step\n"
          ]
        }
      ],
      "source": [
        "EMITEN = 'BMRI'\n",
        "for TARGET_DAY in [1, 5, 10, 20, 50]:\n",
        "    file_name = f'Labelled Stock Data/Labelled_Stock_{EMITEN}.csv'\n",
        "    df = pd.read_csv(file_name)\n",
        "    df = close_target(df, TARGET_DAY, 'close')\n",
        "    df = df.iloc[:-50]\n",
        "\n",
        "    df1 = df['close'].iloc[50:].values\n",
        "    df_y = df[f'close_{TARGET_DAY}'].iloc[50:].values\n",
        "\n",
        "    m = df1.shape[0] # panjang dataset\n",
        "    r = 0.8 #ratio jumlah data training terhadap dataset\n",
        "    l = TARGET_DAY #panjang potongan data sekuen untuk memprediksi 1 output berikutnya, UPDATE: panjang sekuens disamakan dengan target hari\n",
        "    n = 1\n",
        "\n",
        "    x_train, x_test, y_train, y_test = train_test_split(df1, df_y, test_size=1-r, random_state=0)\n",
        "    x_train = x_train.reshape([-1, 1])\n",
        "    y_train = y_train.reshape([-1, 1])\n",
        "\n",
        "    scaler = StandardScaler()\n",
        "    scaler_y = StandardScaler()\n",
        "    x_train = scaler.fit_transform(x_train)\n",
        "    y_train = scaler_y.fit_transform(y_train)\n",
        "\n",
        "    arr = df['close'].values\n",
        "    arr = arr.reshape(df.shape[0], n)\n",
        "    df_y = df_y.reshape([-1, 1])\n",
        "    new_arr = create_my_dataset(arr)\n",
        "    \n",
        "    for i in range(new_arr.shape[0]):\n",
        "        new_arr[i] = scaler.transform(new_arr[i])\n",
        "    df_y = scaler_y.transform(df_y)\n",
        "    print(new_arr.shape)\n",
        "\n",
        "    x_train, x_test, y_train, y_test = train_test_split(new_arr, df_y, test_size=1-r, random_state=0)\n",
        "    print(x_train.shape[0])\n",
        "    print(x_test.shape[0])\n",
        "\n",
        "    modes = ['LSTM'\n",
        "            ,'GRU'\n",
        "            ,'RNN'\n",
        "            ]\n",
        "\n",
        "    for mode in modes:\n",
        "        random.seed(0)\n",
        "        tf.random.set_seed(0)\n",
        "        np.random.seed(0)\n",
        "        if mode == 'LSTM':\n",
        "        #arsitektur LSTM\n",
        "            model = Sequential()\n",
        "            model.add(LSTM(units=96, return_sequences=True, input_shape=(x_train.shape[1],n))) #input n fitur\n",
        "            model.add(Dropout(0.2))\n",
        "            model.add(LSTM(units=96, return_sequences=True))\n",
        "            model.add(Dropout(0.2))\n",
        "            model.add(LSTM(units=96))\n",
        "            model.add(Dropout(0.2))\n",
        "            model.add(Dense(units=1)) #3\n",
        "\n",
        "        elif mode == 'GRU':\n",
        "        #arsitektur GRU\n",
        "            model = Sequential()\n",
        "            model.add(GRU(units=96, return_sequences=True, input_shape=(x_train.shape[1],n), activation='tanh')) #input n fitur\n",
        "            model.add(Dropout(0.2))\n",
        "            model.add(GRU(units=96, return_sequences=True, activation='tanh'))\n",
        "            model.add(Dropout(0.2))\n",
        "            model.add(GRU(units=96, activation='tanh'))\n",
        "            model.add(Dropout(0.2))\n",
        "            model.add(Dense(units=1)) #3\n",
        "\n",
        "        elif mode == 'RNN':\n",
        "        #arsitektur Simple RNN\n",
        "            model = Sequential()\n",
        "            model.add(SimpleRNN(units=96, return_sequences=True, input_shape=(x_train.shape[1],n))) #input n fitur\n",
        "            model.add(Dropout(0.2))\n",
        "            model.add(SimpleRNN(units=96, return_sequences=True))\n",
        "            model.add(Dropout(0.2))\n",
        "            model.add(SimpleRNN(units=96))\n",
        "            model.add(Dropout(0.2))\n",
        "            model.add(Dense(units=1)) #3\n",
        "\n",
        "        model.compile(loss='mean_squared_error', optimizer='adam')\n",
        "\n",
        "        results_dir = f'Price Prediction Model/{EMITEN}'\n",
        "        if not os.path.exists(results_dir):\n",
        "            os.makedirs(results_dir)\n",
        "\n",
        "        output_name = f'{results_dir}/{mode}_{EMITEN}_Target_{TARGET_DAY}.h5'\n",
        "        if (not os.path.exists(output_name)):\n",
        "            model.fit(x_train, y_train, epochs=50, batch_size=32)\n",
        "            model.save(output_name)\n",
        "\n",
        "        model_name = f'{results_dir}/{mode}_{EMITEN}_Target_{TARGET_DAY}.h5'\n",
        "        model = load_model(model_name)\n",
        "\n",
        "        # make predictions\n",
        "        trainPredict = model.predict(x_train)\n",
        "        testPredict = model.predict(x_test)\n",
        "\n",
        "        # invert predictions\n",
        "        trainPredict = scaler_y.inverse_transform(trainPredict) #prediksi harga data training\n",
        "        trainY = scaler_y.inverse_transform(y_train)\n",
        "        testPredict = scaler_y.inverse_transform(testPredict) #prediksi harga data testing\n",
        "        testY = scaler_y.inverse_transform(y_test)\n",
        "\n",
        "        tmp = df.iloc[50:]\n",
        "        for day in [1, 5, 10, 20, 50]:\n",
        "            if TARGET_DAY != day:\n",
        "                tmp = tmp.drop(f'target_{day}', axis=1)\n",
        "\n",
        "        train_df, test_df = train_test_split(tmp, test_size=1-r,  random_state=0)\n",
        "\n",
        "        if TARGET_DAY == 1:\n",
        "            percent_threshold = 1.5\n",
        "        elif TARGET_DAY == 5:\n",
        "            percent_threshold = 3\n",
        "        elif TARGET_DAY == 10:\n",
        "            percent_threshold = 6\n",
        "        elif TARGET_DAY == 20:\n",
        "            percent_threshold = 9\n",
        "        elif TARGET_DAY == 50:\n",
        "            percent_threshold = 11\n",
        "        else:\n",
        "            percent_threshold = 'None'\n",
        "\n",
        "\n",
        "        trainCategoryPredict = []\n",
        "        for i in range(len(trainPredict)):\n",
        "            pred = trainPredict[i]\n",
        "            today = train_df['close'].iloc[i]\n",
        "            chg = ((pred - today) / today) * 100\n",
        "            labelPredict = 'None'\n",
        "            labelY = 'None' \n",
        "\n",
        "            if pred > today and chg >= percent_threshold:\n",
        "                labelPredict = 2\n",
        "            elif pred < today and abs(chg) >= percent_threshold:\n",
        "                labelPredict = 0\n",
        "            elif abs(chg) < percent_threshold:\n",
        "                labelPredict = 1\n",
        "\n",
        "            trainCategoryPredict.append(labelPredict)\n",
        "\n",
        "        testCategoryPredict = []\n",
        "        for i in range(len(testPredict)):\n",
        "            pred = testPredict[i]\n",
        "            today = test_df['close'].iloc[i]\n",
        "            chg = ((pred - today) / today) * 100\n",
        "            labelPredict = 'None' \n",
        "\n",
        "            if pred > today and chg >= percent_threshold:\n",
        "                labelPredict = 2\n",
        "            elif pred < today and abs(chg) >= percent_threshold:\n",
        "                labelPredict = 0\n",
        "            elif abs(chg) < percent_threshold:\n",
        "                labelPredict = 1\n",
        "\n",
        "            testCategoryPredict.append(labelPredict)\n",
        "\n",
        "        train_df = train_df.assign(type='train')\n",
        "        train_df = train_df.assign(close_prediction=trainPredict)\n",
        "        train_df = train_df.assign(prediction=trainCategoryPredict)\n",
        "        test_df = test_df.assign(type='test')\n",
        "        test_df = test_df.assign(close_prediction=testPredict)\n",
        "        test_df = test_df.assign(prediction=testCategoryPredict)\n",
        "        result_df = pd.concat([train_df, test_df])\n",
        "\n",
        "        col = f'target_{TARGET_DAY}'\n",
        "        pred_col = f'close_{TARGET_DAY}'\n",
        "        le = LabelEncoder()\n",
        "        le.classes_ = np.array([\"sell\", \"hold\", \"buy\"])\n",
        "        result_df.loc[:, col] = le.transform(result_df.loc[:, col])\n",
        "        result_df = result_df.rename(columns={col:'ground_truth'})\n",
        "        result_df = result_df.rename(columns={pred_col:'close_ground_truth'})\n",
        "\n",
        "        data_results_dir = f'Result Price Prediction/{EMITEN}'\n",
        "        if not os.path.exists(data_results_dir):\n",
        "            os.makedirs(data_results_dir)\n",
        "\n",
        "        result_df.reset_index(drop=True, inplace=True)\n",
        "        result_df.to_csv(f'{data_results_dir}/{mode}_{EMITEN}_Target_{TARGET_DAY}.csv')"
      ]
    },
    {
      "cell_type": "markdown",
      "id": "daf74a65",
      "metadata": {},
      "source": [
        "# Compiled Metrics Results"
      ]
    },
    {
      "cell_type": "code",
      "execution_count": 9,
      "id": "c71456b7",
      "metadata": {},
      "outputs": [],
      "source": [
        "# calculate RMSE\n",
        "modes = ['LSTM' ,'GRU','RNN']\n",
        "target_days = [1, 5, 10, 20, 50]\n",
        "\n",
        "data_results_dir = f'Result Price Prediction/{EMITEN}'\n",
        "result_file_path = f'{data_results_dir}/{EMITEN}_Results.csv'\n",
        "header_results = f'emiten,model,target_day,type,rmse,mape,accuracy,precision,recall,f1_score'\n",
        "with open(result_file_path, 'w') as writer:\n",
        "    writer.write(f'{header_results}\\n')\n",
        "\n",
        "for mode in modes:\n",
        "    for day in target_days:\n",
        "        rmse_train = round(math.sqrt(mean_squared_error(trainY, trainPredict)), 4)\n",
        "        rmse_test = round(math.sqrt(mean_squared_error(testY, testPredict)), 4)\n",
        "\n",
        "        # calculate MAPE\n",
        "        mape_train = round(np.mean(np.abs((trainY - trainPredict)/trainY))*100, 4)\n",
        "        mape_test = round(np.mean(np.abs((testY - testPredict)/testY))*100, 4)\n",
        "\n",
        "        result_df = pd.read_csv(f'{data_results_dir}/{mode}_{EMITEN}_Target_{day}.csv')\n",
        "        train_df = result_df[result_df['type'] == 'train']\n",
        "        test_df = result_df[result_df['type'] == 'test']\n",
        "        trainPredict = train_df['close_prediction'].values\n",
        "        testPredict = test_df['close_prediction'].values\n",
        "        trainY = train_df['close_ground_truth'].values\n",
        "        testY = test_df['close_ground_truth'].values\n",
        "        trainCategoryPredict = train_df['prediction'].values\n",
        "        testCategoryPredict = test_df['prediction'].values\n",
        "        trainCatY = train_df['ground_truth'].values\n",
        "        testCatY = test_df['ground_truth'].values\n",
        "\n",
        "        train_acc = round(accuracy_score(list(trainCatY), trainCategoryPredict), 4)\n",
        "        train_prec = round(precision_score(list(trainCatY), trainCategoryPredict, average='weighted', zero_division=0), 4)\n",
        "        train_rec = round(recall_score(list(trainCatY), trainCategoryPredict, average='weighted', zero_division=0), 4)\n",
        "        train_f1 = round(f1_score(list(trainCatY), trainCategoryPredict, average='weighted', zero_division=0), 4)\n",
        "\n",
        "        test_acc = round(accuracy_score(list(testCatY), testCategoryPredict), 4)\n",
        "        test_prec = round(precision_score(list(testCatY), testCategoryPredict, average='weighted', zero_division=0), 4)\n",
        "        test_rec = round(recall_score(list(testCatY), testCategoryPredict, average='weighted', zero_division=0), 4)\n",
        "        test_f1 = round(f1_score(list(testCatY), testCategoryPredict, average='weighted', zero_division=0), 4)\n",
        "\n",
        "        train_results = f'{EMITEN},{mode},{day},train,{rmse_train},{mape_train},{train_acc},{train_prec},{train_rec},{train_f1}'\n",
        "        test_results = f'{EMITEN},{mode},{day},test,{rmse_test},{mape_test},{test_acc},{test_prec},{test_rec},{test_f1}'\n",
        "\n",
        "        with open(result_file_path, 'a') as writer:\n",
        "            writer.write('{}\\n{}\\n'\n",
        "                         .format(train_results, test_results))"
      ]
    },
    {
      "cell_type": "code",
      "execution_count": 10,
      "id": "627e32c6",
      "metadata": {},
      "outputs": [
        {
          "name": "stdout",
          "output_type": "stream",
          "text": [
            "================ BMRI ==================\n",
            "LSTM Mean Accuracy: 0.7172\n",
            "GRU Mean Accuracy: 0.7116\n",
            "RNN Mean Accuracy: 0.6937\n"
          ]
        }
      ],
      "source": [
        "tmp = pd.read_csv(result_file_path)\n",
        "# tmp[tmp['type'] == 'test']\n",
        "lstm_acc = round(tmp[tmp['model'] == 'LSTM']['accuracy'].mean(), 4)\n",
        "gru_acc = round(tmp[tmp['model'] == 'GRU']['accuracy'].mean(), 4)\n",
        "rnn_acc = round(tmp[tmp['model'] == 'RNN']['accuracy'].mean(), 4)\n",
        "\n",
        "print(f'================ {EMITEN} ==================')\n",
        "print(f'LSTM Mean Accuracy: {lstm_acc}')\n",
        "print(f'GRU Mean Accuracy: {gru_acc}')\n",
        "print(f'RNN Mean Accuracy: {rnn_acc}')"
      ]
    },
    {
      "cell_type": "code",
      "execution_count": 11,
      "id": "2a6332ce",
      "metadata": {},
      "outputs": [],
      "source": [
        "# ================ ADRO ==================\n",
        "# LSTM Mean Accuracy: 0.5062\n",
        "# GRU Mean Accuracy: 0.4937\n",
        "# RNN Mean Accuracy: 0.4632\n",
        "\n",
        "# ================ BMRI ==================\n",
        "# LSTM Mean Accuracy: 0.7172\n",
        "# GRU Mean Accuracy: 0.7116\n",
        "# RNN Mean Accuracy: 0.6937\n",
        "\n",
        "# ================ INCO ==================\n",
        "# LSTM Mean Accuracy: 0.5766\n",
        "# GRU Mean Accuracy: 0.5622\n",
        "# RNN Mean Accuracy: 0.5482"
      ]
    }
  ],
  "metadata": {
    "colab": {
      "provenance": []
    },
    "kernelspec": {
      "display_name": "Python 3 (ipykernel)",
      "language": "python",
      "name": "python3"
    },
    "language_info": {
      "codemirror_mode": {
        "name": "ipython",
        "version": 3
      },
      "file_extension": ".py",
      "mimetype": "text/x-python",
      "name": "python",
      "nbconvert_exporter": "python",
      "pygments_lexer": "ipython3",
      "version": "3.11.9"
    },
    "toc-autonumbering": false,
    "toc-showcode": true,
    "toc-showmarkdowntxt": true,
    "toc-showtags": false
  },
  "nbformat": 4,
  "nbformat_minor": 5
}
